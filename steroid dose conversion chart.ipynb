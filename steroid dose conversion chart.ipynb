{
 "cells": [
  {
   "cell_type": "markdown",
   "id": "440ec055",
   "metadata": {},
   "source": [
    "the values are derived from calculator at https://www.mdcalc.com/calc/2040/steroid-conversion-calculator\n",
    "accessed 2023-March"
   ]
  },
  {
   "cell_type": "code",
   "execution_count": 3,
   "id": "f5420161",
   "metadata": {},
   "outputs": [
    {
     "data": {
      "text/html": [
       "<div>\n",
       "<style scoped>\n",
       "    .dataframe tbody tr th:only-of-type {\n",
       "        vertical-align: middle;\n",
       "    }\n",
       "\n",
       "    .dataframe tbody tr th {\n",
       "        vertical-align: top;\n",
       "    }\n",
       "\n",
       "    .dataframe thead th {\n",
       "        text-align: right;\n",
       "    }\n",
       "</style>\n",
       "<table border=\"1\" class=\"dataframe\">\n",
       "  <thead>\n",
       "    <tr style=\"text-align: right;\">\n",
       "      <th></th>\n",
       "      <th>Steroid</th>\n",
       "      <th>mg Betamethasone per 1000 mg steroid</th>\n",
       "    </tr>\n",
       "  </thead>\n",
       "  <tbody>\n",
       "    <tr>\n",
       "      <th>0</th>\n",
       "      <td>Betamethasone</td>\n",
       "      <td>1000.0</td>\n",
       "    </tr>\n",
       "    <tr>\n",
       "      <th>1</th>\n",
       "      <td>Cortisone</td>\n",
       "      <td>30.0</td>\n",
       "    </tr>\n",
       "    <tr>\n",
       "      <th>2</th>\n",
       "      <td>Dexamethasone</td>\n",
       "      <td>1000.0</td>\n",
       "    </tr>\n",
       "    <tr>\n",
       "      <th>3</th>\n",
       "      <td>Hydrocortisone</td>\n",
       "      <td>37.5</td>\n",
       "    </tr>\n",
       "    <tr>\n",
       "      <th>4</th>\n",
       "      <td>MethylPrednisoLONE</td>\n",
       "      <td>187.5</td>\n",
       "    </tr>\n",
       "    <tr>\n",
       "      <th>5</th>\n",
       "      <td>PrednisoLONE</td>\n",
       "      <td>150.0</td>\n",
       "    </tr>\n",
       "    <tr>\n",
       "      <th>6</th>\n",
       "      <td>PredniSONE</td>\n",
       "      <td>150.0</td>\n",
       "    </tr>\n",
       "    <tr>\n",
       "      <th>7</th>\n",
       "      <td>Triamcinolone</td>\n",
       "      <td>187.5</td>\n",
       "    </tr>\n",
       "  </tbody>\n",
       "</table>\n",
       "</div>"
      ],
      "text/plain": [
       "              Steroid  mg Betamethasone per 1000 mg steroid\n",
       "0       Betamethasone                                1000.0\n",
       "1           Cortisone                                  30.0\n",
       "2       Dexamethasone                                1000.0\n",
       "3      Hydrocortisone                                  37.5\n",
       "4  MethylPrednisoLONE                                 187.5\n",
       "5        PrednisoLONE                                 150.0\n",
       "6          PredniSONE                                 150.0\n",
       "7       Triamcinolone                                 187.5"
      ]
     },
     "execution_count": 3,
     "metadata": {},
     "output_type": "execute_result"
    }
   ],
   "source": [
    "import pandas as pd\n",
    "\n",
    "# list of steroids\n",
    "steroids_list = [\"Betamethasone\", \"Cortisone\", \"Dexamethasone\", \"Hydrocortisone\", \n",
    "                 \"MethylPrednisoLONE\", \"PrednisoLONE\", \"PredniSONE\", \"Triamcinolone\"]\n",
    "\n",
    "# conversion factor; corresponds to amount of betamethasone per 1000 mg of steroid\n",
    "conversion_list = [1000, 30, 1000, 37.5, \n",
    "                   187.5, 150, 150, 187.5]\n",
    "\n",
    "# Create a dictionary with the column headings and values\n",
    "data = {\"Steroid\": steroids_list,\n",
    "        \"mg Betamethasone per 1000 mg steroid\": conversion_list}\n",
    "\n",
    "# Create a pandas DataFrame using the dictionary\n",
    "df = pd.DataFrame(data)\n",
    "\n",
    "# display the DataFrame\n",
    "df\n"
   ]
  }
 ],
 "metadata": {
  "kernelspec": {
   "display_name": "Python 3.9 (tensorflow)",
   "language": "python",
   "name": "tensorflow"
  },
  "language_info": {
   "codemirror_mode": {
    "name": "ipython",
    "version": 3
   },
   "file_extension": ".py",
   "mimetype": "text/x-python",
   "name": "python",
   "nbconvert_exporter": "python",
   "pygments_lexer": "ipython3",
   "version": "3.9.13"
  }
 },
 "nbformat": 4,
 "nbformat_minor": 5
}
